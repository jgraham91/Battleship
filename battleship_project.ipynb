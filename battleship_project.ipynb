{
 "cells": [
  {
   "cell_type": "markdown",
   "id": "7eeb1854-d6d9-47e1-8dd3-6cada7558521",
   "metadata": {},
   "source": [
    "# Battleships!"
   ]
  },
  {
   "cell_type": "markdown",
   "id": "179a1a95-f3dc-4fe2-a2f5-8f0c885bb26e",
   "metadata": {},
   "source": [
    "To celebrate my former career as a naval architect, my love of ships and data science, and my need to keep coding skills sharp while job hutning for a data analyst, data engineer or data scientist role:\n",
    "    \n",
    "    I am going to figure out the best strategy in the game battleship.  "
   ]
  },
  {
   "cell_type": "markdown",
   "id": "656e908d-a39d-48f0-a8df-ff4c3c13a99a",
   "metadata": {},
   "source": [
    "![battleship_cover_photo](images/battleship_box.jpg)"
   ]
  },
  {
   "cell_type": "code",
   "execution_count": 58,
   "id": "8b3c63d3-7c72-4e75-a8ca-08c23b966e69",
   "metadata": {},
   "outputs": [],
   "source": [
    "import random"
   ]
  },
  {
   "cell_type": "code",
   "execution_count": 59,
   "id": "db1b50a1-f298-404d-a2be-5ddd4cac0a16",
   "metadata": {},
   "outputs": [],
   "source": [
    "# Define the board size and ships\n",
    "BOARD_SIZE = 10\n",
    "SHIPS = {'Carrier':5,'Battleship': 4, 'Cruiser': 3,'Cruiser': 3,'Destroyer': 2}  # Ship name: size\n"
   ]
  },
  {
   "cell_type": "code",
   "execution_count": 60,
   "id": "e0bcd003-b1fd-4c3e-b5f7-dcfde00287b4",
   "metadata": {},
   "outputs": [],
   "source": [
    "# Initialize a board\n",
    "def create_board():\n",
    "    return [[0] * BOARD_SIZE for _ in range(BOARD_SIZE)]\n"
   ]
  },
  {
   "cell_type": "code",
   "execution_count": 61,
   "id": "b41f7e77-ca90-47fe-8d56-081e5a1d72b5",
   "metadata": {},
   "outputs": [
    {
     "data": {
      "text/plain": [
       "[[0, 0, 0, 0, 0, 0, 0, 0, 0, 0],\n",
       " [0, 0, 0, 0, 0, 0, 0, 0, 0, 0],\n",
       " [0, 0, 0, 0, 0, 0, 0, 0, 0, 0],\n",
       " [0, 0, 0, 0, 0, 0, 0, 0, 0, 0],\n",
       " [0, 0, 0, 0, 0, 0, 0, 0, 0, 0],\n",
       " [0, 0, 0, 0, 0, 0, 0, 0, 0, 0],\n",
       " [0, 0, 0, 0, 0, 0, 0, 0, 0, 0],\n",
       " [0, 0, 0, 0, 0, 0, 0, 0, 0, 0],\n",
       " [0, 0, 0, 0, 0, 0, 0, 0, 0, 0],\n",
       " [0, 0, 0, 0, 0, 0, 0, 0, 0, 0]]"
      ]
     },
     "execution_count": 61,
     "metadata": {},
     "output_type": "execute_result"
    }
   ],
   "source": [
    "board = create_board()\n",
    "board"
   ]
  },
  {
   "cell_type": "code",
   "execution_count": 62,
   "id": "f2a55ed0-116c-4f40-b731-3c81e04f5fe6",
   "metadata": {},
   "outputs": [],
   "source": [
    "# Randomly place ships\n",
    "def place_ships(board):\n",
    "    for ship, size in SHIPS.items():\n",
    "        placed = False\n",
    "        while not placed:\n",
    "            orientation = random.choice(['horizontal', 'vertical'])\n",
    "            if orientation == 'horizontal':\n",
    "                row, col = random.randint(0, BOARD_SIZE-1), random.randint(0, BOARD_SIZE-size)\n",
    "                if all(board[row][c] == 0 for c in range(col, col+size)):\n",
    "                    for c in range(col, col+size):\n",
    "                        board[row][c] = 1  # mark ship on board\n",
    "                    placed = True\n",
    "            else:\n",
    "                row, col = random.randint(0, BOARD_SIZE-size), random.randint(0, BOARD_SIZE-1)\n",
    "                if all(board[r][col] == 0 for r in range(row, row+size)):\n",
    "                    for r in range(row, row+size):\n",
    "                        board[r][col] = 1  # mark ship on board\n",
    "                    placed = True"
   ]
  },
  {
   "cell_type": "code",
   "execution_count": 63,
   "id": "18ab8ad5-2394-47f4-93cf-ff513cfd1938",
   "metadata": {},
   "outputs": [
    {
     "data": {
      "text/plain": [
       "[[0, 0, 0, 0, 0, 0, 0, 0, 0, 0],\n",
       " [0, 0, 1, 1, 0, 0, 0, 0, 0, 0],\n",
       " [0, 0, 1, 1, 0, 0, 1, 1, 1, 1],\n",
       " [0, 0, 1, 1, 0, 0, 0, 0, 0, 0],\n",
       " [0, 0, 0, 1, 0, 0, 0, 0, 0, 0],\n",
       " [0, 0, 0, 1, 0, 0, 0, 0, 0, 0],\n",
       " [0, 0, 0, 0, 0, 0, 0, 0, 0, 0],\n",
       " [0, 0, 0, 0, 0, 0, 0, 0, 0, 0],\n",
       " [0, 0, 0, 0, 1, 0, 0, 0, 0, 0],\n",
       " [0, 0, 0, 0, 1, 0, 0, 0, 0, 0]]"
      ]
     },
     "execution_count": 63,
     "metadata": {},
     "output_type": "execute_result"
    }
   ],
   "source": [
    "board = create_board()\n",
    "place_ships(board)\n",
    "board"
   ]
  },
  {
   "cell_type": "code",
   "execution_count": null,
   "id": "fa04c43d-e6af-40c1-848d-b94bac8cc815",
   "metadata": {},
   "outputs": [],
   "source": []
  }
 ],
 "metadata": {
  "kernelspec": {
   "display_name": "Python 3 (ipykernel)",
   "language": "python",
   "name": "python3"
  },
  "language_info": {
   "codemirror_mode": {
    "name": "ipython",
    "version": 3
   },
   "file_extension": ".py",
   "mimetype": "text/x-python",
   "name": "python",
   "nbconvert_exporter": "python",
   "pygments_lexer": "ipython3",
   "version": "3.9.13"
  }
 },
 "nbformat": 4,
 "nbformat_minor": 5
}
