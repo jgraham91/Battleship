{
 "cells": [
  {
   "cell_type": "markdown",
   "id": "7eeb1854-d6d9-47e1-8dd3-6cada7558521",
   "metadata": {},
   "source": [
    "# Battleships!"
   ]
  },
  {
   "cell_type": "markdown",
   "id": "179a1a95-f3dc-4fe2-a2f5-8f0c885bb26e",
   "metadata": {},
   "source": [
    "To celebrate my former career as a naval architect, my love of ships and data science, and my need to keep coding skills sharp while job hutning for a data analyst, data engineer or data scientist role:\n",
    "    \n",
    "    I am going to figure out the best strategy in the game battleship.  "
   ]
  },
  {
   "cell_type": "markdown",
   "id": "656e908d-a39d-48f0-a8df-ff4c3c13a99a",
   "metadata": {},
   "source": [
    "![battleship_cover_photo](images/battleship_box.jpg)"
   ]
  },
  {
   "cell_type": "markdown",
   "id": "14f43015-82b3-4cf5-b00c-4f2c56f0d095",
   "metadata": {},
   "source": [
    "## Create Battleship Board"
   ]
  },
  {
   "cell_type": "code",
   "execution_count": 16,
   "id": "8b3c63d3-7c72-4e75-a8ca-08c23b966e69",
   "metadata": {},
   "outputs": [],
   "source": [
    "import random\n",
    "import numpy as np"
   ]
  },
  {
   "cell_type": "code",
   "execution_count": 40,
   "id": "db1b50a1-f298-404d-a2be-5ddd4cac0a16",
   "metadata": {},
   "outputs": [],
   "source": [
    "# Define the ship size\n",
    "board_size = 10\n",
    "ships = {'Carrier':5,'Battleship': 4, 'Cruiser1': 3,'Cruiser2': 3,'Destroyer': 2} \n"
   ]
  },
  {
   "cell_type": "code",
   "execution_count": 45,
   "id": "5e4704f1-a6b9-45e0-8d21-e3f6ac9bb92c",
   "metadata": {},
   "outputs": [
    {
     "data": {
      "text/plain": [
       "[[0, 0, 0, 0, 0, 0, 0, 0, 0, 0],\n",
       " [0, 0, 0, 0, 0, 0, 0, 0, 0, 0],\n",
       " [0, 0, 0, 0, 0, 0, 0, 0, 0, 0],\n",
       " [0, 0, 0, 0, 0, 0, 0, 0, 0, 0],\n",
       " [0, 0, 0, 0, 0, 0, 0, 0, 0, 0],\n",
       " [0, 0, 0, 0, 0, 0, 0, 0, 0, 0],\n",
       " [0, 0, 0, 0, 0, 0, 0, 0, 0, 0],\n",
       " [0, 0, 0, 0, 0, 0, 0, 0, 0, 0],\n",
       " [0, 0, 0, 0, 0, 0, 0, 0, 0, 0],\n",
       " [0, 0, 0, 0, 0, 0, 0, 0, 0, 0]]"
      ]
     },
     "execution_count": 45,
     "metadata": {},
     "output_type": "execute_result"
    }
   ],
   "source": [
    "board = [[0] * board_size for row in range(board_size)]\n",
    "board"
   ]
  },
  {
   "cell_type": "code",
   "execution_count": 53,
   "id": "33f578d2-989c-4263-8a8d-0b57fdc9139b",
   "metadata": {},
   "outputs": [],
   "source": [
    "flattened_board = [pos for row in board for pos in row]"
   ]
  },
  {
   "cell_type": "code",
   "execution_count": 43,
   "id": "f2a55ed0-116c-4f40-b731-3c81e04f5fe6",
   "metadata": {},
   "outputs": [],
   "source": [
    "# Randomly place ships\n",
    "def place_ships(board_size):\n",
    "\n",
    "    #create board\n",
    "    board = [[0] * board_size for row in range(board_size)]\n",
    "\n",
    "    #place ships as ones amongst the list of zeros \n",
    "    for ship, size in ships.items():\n",
    "        placed = False\n",
    "        while not placed:\n",
    "            orientation = random.choice(['horizontal', 'vertical'])\n",
    "            if orientation == 'horizontal':\n",
    "                row, col = random.randint(0, board_size-1), random.randint(0, board_size-size)\n",
    "                if all(board[row][c] == 0 for c in range(col, col+size)):\n",
    "                    for c in range(col, col+size):\n",
    "                        board[row][c] = 1  # mark ship on board\n",
    "                    placed = True\n",
    "            else:\n",
    "                row, col = random.randint(0, board_size-size), random.randint(0, board_size-1)\n",
    "                if all(board[r][col] == 0 for r in range(row, row+size)):\n",
    "                    for r in range(row, row+size):\n",
    "                        board[r][col] = 1  # mark ship on board\n",
    "                    placed = True\n",
    "\n",
    "    #flatten board with placed ships, convert to numpy array and reshape to a matrix\n",
    "    flattened_board = [pos for row in board for pos in row]\n",
    "    return np.array(flattened_board).reshape(board_size, board_size)\n",
    "        "
   ]
  },
  {
   "cell_type": "code",
   "execution_count": 55,
   "id": "3df6a4f5-afb0-4bf8-983b-bc7726419a63",
   "metadata": {},
   "outputs": [
    {
     "data": {
      "text/plain": [
       "array([[0, 0, 0, 0, 0, 0, 0, 0, 0, 0],\n",
       "       [0, 0, 0, 0, 0, 0, 0, 0, 0, 0],\n",
       "       [0, 0, 0, 0, 0, 0, 0, 0, 0, 0],\n",
       "       [0, 1, 1, 0, 0, 0, 0, 0, 0, 0],\n",
       "       [0, 0, 0, 0, 1, 1, 1, 0, 0, 0],\n",
       "       [0, 0, 0, 1, 1, 1, 1, 1, 0, 0],\n",
       "       [0, 0, 1, 0, 0, 0, 0, 0, 0, 0],\n",
       "       [0, 0, 1, 1, 1, 1, 0, 0, 0, 0],\n",
       "       [0, 0, 1, 0, 0, 0, 0, 0, 0, 0],\n",
       "       [0, 0, 1, 0, 0, 0, 0, 0, 0, 0]])"
      ]
     },
     "execution_count": 55,
     "metadata": {},
     "output_type": "execute_result"
    }
   ],
   "source": [
    "game_board = place_ships(board_size)\n",
    "game_board"
   ]
  },
  {
   "cell_type": "markdown",
   "id": "eb25c183-1b7a-44ed-b3d6-0443ffc3a363",
   "metadata": {},
   "source": [
    "## Create Gameplay Strategies"
   ]
  },
  {
   "cell_type": "code",
   "execution_count": 104,
   "id": "5fae926c-7587-491d-b7f9-239c620d07f2",
   "metadata": {},
   "outputs": [
    {
     "data": {
      "text/plain": [
       "array([[0, 0, 0, 0, 0, 1, 0, 1, 0, 0],\n",
       "       [0, 0, 0, 1, 0, 1, 0, 1, 0, 0],\n",
       "       [0, 1, 0, 1, 0, 1, 0, 1, 0, 0],\n",
       "       [0, 1, 0, 1, 0, 1, 0, 0, 0, 0],\n",
       "       [1, 0, 0, 1, 0, 1, 0, 0, 0, 0],\n",
       "       [1, 0, 0, 0, 0, 0, 0, 0, 0, 0],\n",
       "       [1, 0, 0, 0, 0, 0, 0, 0, 0, 0],\n",
       "       [0, 0, 0, 0, 0, 0, 0, 0, 0, 0],\n",
       "       [0, 0, 0, 0, 0, 0, 0, 0, 0, 0],\n",
       "       [0, 0, 0, 0, 0, 0, 0, 0, 0, 0]])"
      ]
     },
     "execution_count": 104,
     "metadata": {},
     "output_type": "execute_result"
    }
   ],
   "source": [
    "game_board = place_ships(board_size)\n",
    "game_board"
   ]
  },
  {
   "cell_type": "code",
   "execution_count": 107,
   "id": "48dcef2f-9e60-4084-aab3-5282094b55e6",
   "metadata": {},
   "outputs": [
    {
     "name": "stdout",
     "output_type": "stream",
     "text": [
      "61\n"
     ]
    }
   ],
   "source": [
    "#strategy where you start at position 0,0\n",
    "#iterate through all rows until there are no more ships\n",
    "\n",
    "test_board = game_board.copy()\n",
    "\n",
    "moves = 0\n",
    "game_won = False\n",
    "\n",
    "for row_num,row in enumerate(test_board):\n",
    "    for col_num,pos in enumerate(row):\n",
    "        moves += 1\n",
    "        if pos == 1:\n",
    "            test_board[row_num,col_num]=0\n",
    "            num_ones = np.sum(test_board == 1)\n",
    "            if num_ones == 0:\n",
    "                game_won = True\n",
    "                break\n",
    "    if game_won:\n",
    "        break\n",
    "        \n",
    "print(moves)\n",
    "\n"
   ]
  },
  {
   "cell_type": "code",
   "execution_count": 120,
   "id": "f40ce00a-b562-4b4c-97c9-bc66bf635b3b",
   "metadata": {},
   "outputs": [],
   "source": [
    "def strategy1(game_board):\n",
    "    moves = 0\n",
    "    game_won = False\n",
    "    \n",
    "    for row_num,row in enumerate(game_board):\n",
    "        for col_num,pos in enumerate(row):\n",
    "            moves += 1\n",
    "            if pos == 1:\n",
    "                game_board[row_num,col_num]=0\n",
    "                num_ones = np.sum(game_board == 1)\n",
    "                if num_ones == 0:\n",
    "                    return(moves)    "
   ]
  },
  {
   "cell_type": "code",
   "execution_count": 121,
   "id": "914dcdc1-bf42-4b53-9f75-e791f222923e",
   "metadata": {},
   "outputs": [
    {
     "data": {
      "text/plain": [
       "79"
      ]
     },
     "execution_count": 121,
     "metadata": {},
     "output_type": "execute_result"
    }
   ],
   "source": [
    "game_board = place_ships(board_size)\n",
    "strategy1(game_board)"
   ]
  },
  {
   "cell_type": "code",
   "execution_count": 122,
   "id": "26410ce4-b2af-4ca9-999d-ca56b796e83a",
   "metadata": {},
   "outputs": [
    {
     "data": {
      "text/plain": [
       "88.6474"
      ]
     },
     "execution_count": 122,
     "metadata": {},
     "output_type": "execute_result"
    }
   ],
   "source": [
    "simulations = 10000\n",
    "move_history = []\n",
    "for games in range(simulations):\n",
    "    game_board = place_ships(board_size)\n",
    "    move_history.append(strategy1(game_board))\n",
    "\n",
    "average = sum(move_history) / len(move_history)\n",
    "average"
   ]
  },
  {
   "cell_type": "code",
   "execution_count": 124,
   "id": "0578e99e-4823-4dc2-a5df-d1789e0d6899",
   "metadata": {},
   "outputs": [],
   "source": [
    "def run_simulations(strategy1,simulations):\n",
    "    move_history = []\n",
    "    for games in range(simulations):\n",
    "        game_board = place_ships(board_size)\n",
    "        move_history.append(strategy1(game_board))\n",
    "    \n",
    "    average = sum(move_history) / len(move_history)\n",
    "    return(average)\n"
   ]
  },
  {
   "cell_type": "code",
   "execution_count": 125,
   "id": "f0588031-cb37-4022-8c2d-978b041467ef",
   "metadata": {},
   "outputs": [
    {
     "data": {
      "text/plain": [
       "88.5455"
      ]
     },
     "execution_count": 125,
     "metadata": {},
     "output_type": "execute_result"
    }
   ],
   "source": [
    "run_simulations(strategy1,10000)"
   ]
  },
  {
   "cell_type": "code",
   "execution_count": null,
   "id": "63f3081d-9690-41a3-8804-bd322867a33d",
   "metadata": {},
   "outputs": [],
   "source": []
  }
 ],
 "metadata": {
  "kernelspec": {
   "display_name": "Python 3 (ipykernel)",
   "language": "python",
   "name": "python3"
  },
  "language_info": {
   "codemirror_mode": {
    "name": "ipython",
    "version": 3
   },
   "file_extension": ".py",
   "mimetype": "text/x-python",
   "name": "python",
   "nbconvert_exporter": "python",
   "pygments_lexer": "ipython3",
   "version": "3.9.13"
  }
 },
 "nbformat": 4,
 "nbformat_minor": 5
}
